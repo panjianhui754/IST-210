{
  "nbformat": 4,
  "nbformat_minor": 0,
  "metadata": {
    "colab": {
      "name": "IST 210 Lab 2",
      "provenance": [],
      "authorship_tag": "ABX9TyP9PgdVJVTIkRqnPEvo6iT0",
      "include_colab_link": true
    },
    "kernelspec": {
      "name": "python3",
      "display_name": "Python 3"
    }
  },
  "cells": [
    {
      "cell_type": "markdown",
      "metadata": {
        "id": "view-in-github",
        "colab_type": "text"
      },
      "source": [
        "<a href=\"https://colab.research.google.com/github/panjianhui754/IST-210/blob/master/IST_210_Lab_2.ipynb\" target=\"_parent\"><img src=\"https://colab.research.google.com/assets/colab-badge.svg\" alt=\"Open In Colab\"/></a>"
      ]
    },
    {
      "cell_type": "code",
      "metadata": {
        "id": "Nq7YZkFu93nL",
        "colab_type": "code",
        "colab": {}
      },
      "source": [
        ""
      ],
      "execution_count": 0,
      "outputs": []
    },
    {
      "cell_type": "markdown",
      "metadata": {
        "id": "NJbECglq-auo",
        "colab_type": "text"
      },
      "source": [
        "The main entities which will be included in the database are the customers, invoices, food and pets. The database about the customers will have to contain the key information about the customers like their names and the system they will provide a customer ID to each individual. The relationship between the customer and the Invoices is created through the action of making purchase, with the invoices being utilised to determine the loyalty of the customers. \n",
        "Customers can ether make a purchase of food or pets. Each of these two will be recorded as a different purchase and hence there is a direct relationship between the aspects of food and pets to the customer. The action of purchase also links the invoice to the food or pet which are the main products which are provided by the store and which customers will be seeking to purchase. \n",
        "The invoice will be issued once an order has been made for either pet or food to the customer and hence multiple relations will be established due to the repetition of the acts. When the customer has been entered into the database, the number of involves which they receive from the business will be based on the purchases made and they cannot be limited by any factor. \n",
        "The loyalty programme will be affected by the number of size of purchases made and hence the invoices will be utilised in determine the entries which a single customer has on the database. This will increase with each purchase of either food or pets. Regardless of the item which a customer purchases, they will be issued with an order id and the subsequent entries to the loyalty program adjusted accordingly. \n"
      ]
    },
    {
      "cell_type": "markdown",
      "metadata": {
        "id": "nDTbgcur_Cyg",
        "colab_type": "text"
      },
      "source": [
        ""
      ]
    }
  ]
}