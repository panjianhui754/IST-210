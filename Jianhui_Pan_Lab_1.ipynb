{
  "nbformat": 4,
  "nbformat_minor": 0,
  "metadata": {
    "colab": {
      "name": "Jianhui Pan Lab 1",
      "provenance": [],
      "toc_visible": true,
      "authorship_tag": "ABX9TyN/upsZV2JFFydlPZNCuh8W",
      "include_colab_link": true
    },
    "kernelspec": {
      "name": "python3",
      "display_name": "Python 3"
    }
  },
  "cells": [
    {
      "cell_type": "markdown",
      "metadata": {
        "id": "view-in-github",
        "colab_type": "text"
      },
      "source": [
        "<a href=\"https://colab.research.google.com/github/panjianhui754/IST-210/blob/master/Jianhui_Pan_Lab_1.ipynb\" target=\"_parent\"><img src=\"https://colab.research.google.com/assets/colab-badge.svg\" alt=\"Open In Colab\"/></a>"
      ]
    },
    {
      "cell_type": "markdown",
      "metadata": {
        "id": "EXHOy__GFov_",
        "colab_type": "text"
      },
      "source": [
        "### Name"
      ]
    },
    {
      "cell_type": "markdown",
      "metadata": {
        "id": "bLVszn_sFuUs",
        "colab_type": "text"
      },
      "source": [
        "Jianhui Pan\n"
      ]
    },
    {
      "cell_type": "markdown",
      "metadata": {
        "id": "MY48AsAIT1ho",
        "colab_type": "text"
      },
      "source": [
        "### IST Related interests"
      ]
    },
    {
      "cell_type": "markdown",
      "metadata": {
        "id": "tUS4jqqBT8oQ",
        "colab_type": "text"
      },
      "source": [
        "I'm interested in how to design a web and how does that works. I'm also interested in the information security, Because my card was get fraud before and I was lost a lot of money on that issue. So I also want to know something that how the database works for the company."
      ]
    },
    {
      "cell_type": "markdown",
      "metadata": {
        "id": "nbP7wFwxVIbS",
        "colab_type": "text"
      },
      "source": [
        "### Future job/career"
      ]
    },
    {
      "cell_type": "markdown",
      "metadata": {
        "id": "Q0WfHwfMVQ2N",
        "colab_type": "text"
      },
      "source": [
        "My major is SCM. I will try to get job around the SCM major, and I'm also learning the Stat right now and I‘m working on the SOA test right now. After I pass all the test. I probably will work in a bank in China."
      ]
    }
  ]
}